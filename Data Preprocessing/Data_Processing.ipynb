{
  "nbformat": 4,
  "nbformat_minor": 0,
  "metadata": {
    "colab": {
      "name": "Data Processing",
      "provenance": [],
      "collapsed_sections": []
    },
    "kernelspec": {
      "name": "python3",
      "display_name": "Python 3"
    },
    "language_info": {
      "name": "python"
    },
    "widgets": {
      "application/vnd.jupyter.widget-state+json": {
        "4171bd496ad34299b58a4ecc15b2a406": {
          "model_module": "@jupyter-widgets/controls",
          "model_name": "VBoxModel",
          "model_module_version": "1.5.0",
          "state": {
            "_dom_classes": [],
            "_model_module": "@jupyter-widgets/controls",
            "_model_module_version": "1.5.0",
            "_model_name": "VBoxModel",
            "_view_count": null,
            "_view_module": "@jupyter-widgets/controls",
            "_view_module_version": "1.5.0",
            "_view_name": "VBoxView",
            "box_style": "",
            "children": [
              "IPY_MODEL_4301e0c1783f4c01bd8fb7ad54b9d36c",
              "IPY_MODEL_0bb7d336b08047dbbd8a82b9e6343ba7"
            ],
            "layout": "IPY_MODEL_baa44fbcc794485392e2dbca2017e10d"
          }
        },
        "4301e0c1783f4c01bd8fb7ad54b9d36c": {
          "model_module": "@jupyter-widgets/controls",
          "model_name": "LabelModel",
          "model_module_version": "1.5.0",
          "state": {
            "_dom_classes": [],
            "_model_module": "@jupyter-widgets/controls",
            "_model_module_version": "1.5.0",
            "_model_name": "LabelModel",
            "_view_count": null,
            "_view_module": "@jupyter-widgets/controls",
            "_view_module_version": "1.5.0",
            "_view_name": "LabelView",
            "description": "",
            "description_tooltip": null,
            "layout": "IPY_MODEL_80efaa20f66c46718201f4a636a27843",
            "placeholder": "​",
            "style": "IPY_MODEL_cb54b9249da34853b424fef8ed428653",
            "value": "5324.356 MB of 5324.356 MB uploaded (329.646 MB deduped)\r"
          }
        },
        "0bb7d336b08047dbbd8a82b9e6343ba7": {
          "model_module": "@jupyter-widgets/controls",
          "model_name": "FloatProgressModel",
          "model_module_version": "1.5.0",
          "state": {
            "_dom_classes": [],
            "_model_module": "@jupyter-widgets/controls",
            "_model_module_version": "1.5.0",
            "_model_name": "FloatProgressModel",
            "_view_count": null,
            "_view_module": "@jupyter-widgets/controls",
            "_view_module_version": "1.5.0",
            "_view_name": "ProgressView",
            "bar_style": "",
            "description": "",
            "description_tooltip": null,
            "layout": "IPY_MODEL_57699913dcc443f69b481db325bcfd63",
            "max": 1,
            "min": 0,
            "orientation": "horizontal",
            "style": "IPY_MODEL_929a6fc6bb294575bad8d3bd1448f50a",
            "value": 1
          }
        },
        "baa44fbcc794485392e2dbca2017e10d": {
          "model_module": "@jupyter-widgets/base",
          "model_name": "LayoutModel",
          "model_module_version": "1.2.0",
          "state": {
            "_model_module": "@jupyter-widgets/base",
            "_model_module_version": "1.2.0",
            "_model_name": "LayoutModel",
            "_view_count": null,
            "_view_module": "@jupyter-widgets/base",
            "_view_module_version": "1.2.0",
            "_view_name": "LayoutView",
            "align_content": null,
            "align_items": null,
            "align_self": null,
            "border": null,
            "bottom": null,
            "display": null,
            "flex": null,
            "flex_flow": null,
            "grid_area": null,
            "grid_auto_columns": null,
            "grid_auto_flow": null,
            "grid_auto_rows": null,
            "grid_column": null,
            "grid_gap": null,
            "grid_row": null,
            "grid_template_areas": null,
            "grid_template_columns": null,
            "grid_template_rows": null,
            "height": null,
            "justify_content": null,
            "justify_items": null,
            "left": null,
            "margin": null,
            "max_height": null,
            "max_width": null,
            "min_height": null,
            "min_width": null,
            "object_fit": null,
            "object_position": null,
            "order": null,
            "overflow": null,
            "overflow_x": null,
            "overflow_y": null,
            "padding": null,
            "right": null,
            "top": null,
            "visibility": null,
            "width": null
          }
        },
        "80efaa20f66c46718201f4a636a27843": {
          "model_module": "@jupyter-widgets/base",
          "model_name": "LayoutModel",
          "model_module_version": "1.2.0",
          "state": {
            "_model_module": "@jupyter-widgets/base",
            "_model_module_version": "1.2.0",
            "_model_name": "LayoutModel",
            "_view_count": null,
            "_view_module": "@jupyter-widgets/base",
            "_view_module_version": "1.2.0",
            "_view_name": "LayoutView",
            "align_content": null,
            "align_items": null,
            "align_self": null,
            "border": null,
            "bottom": null,
            "display": null,
            "flex": null,
            "flex_flow": null,
            "grid_area": null,
            "grid_auto_columns": null,
            "grid_auto_flow": null,
            "grid_auto_rows": null,
            "grid_column": null,
            "grid_gap": null,
            "grid_row": null,
            "grid_template_areas": null,
            "grid_template_columns": null,
            "grid_template_rows": null,
            "height": null,
            "justify_content": null,
            "justify_items": null,
            "left": null,
            "margin": null,
            "max_height": null,
            "max_width": null,
            "min_height": null,
            "min_width": null,
            "object_fit": null,
            "object_position": null,
            "order": null,
            "overflow": null,
            "overflow_x": null,
            "overflow_y": null,
            "padding": null,
            "right": null,
            "top": null,
            "visibility": null,
            "width": null
          }
        },
        "cb54b9249da34853b424fef8ed428653": {
          "model_module": "@jupyter-widgets/controls",
          "model_name": "DescriptionStyleModel",
          "model_module_version": "1.5.0",
          "state": {
            "_model_module": "@jupyter-widgets/controls",
            "_model_module_version": "1.5.0",
            "_model_name": "DescriptionStyleModel",
            "_view_count": null,
            "_view_module": "@jupyter-widgets/base",
            "_view_module_version": "1.2.0",
            "_view_name": "StyleView",
            "description_width": ""
          }
        },
        "57699913dcc443f69b481db325bcfd63": {
          "model_module": "@jupyter-widgets/base",
          "model_name": "LayoutModel",
          "model_module_version": "1.2.0",
          "state": {
            "_model_module": "@jupyter-widgets/base",
            "_model_module_version": "1.2.0",
            "_model_name": "LayoutModel",
            "_view_count": null,
            "_view_module": "@jupyter-widgets/base",
            "_view_module_version": "1.2.0",
            "_view_name": "LayoutView",
            "align_content": null,
            "align_items": null,
            "align_self": null,
            "border": null,
            "bottom": null,
            "display": null,
            "flex": null,
            "flex_flow": null,
            "grid_area": null,
            "grid_auto_columns": null,
            "grid_auto_flow": null,
            "grid_auto_rows": null,
            "grid_column": null,
            "grid_gap": null,
            "grid_row": null,
            "grid_template_areas": null,
            "grid_template_columns": null,
            "grid_template_rows": null,
            "height": null,
            "justify_content": null,
            "justify_items": null,
            "left": null,
            "margin": null,
            "max_height": null,
            "max_width": null,
            "min_height": null,
            "min_width": null,
            "object_fit": null,
            "object_position": null,
            "order": null,
            "overflow": null,
            "overflow_x": null,
            "overflow_y": null,
            "padding": null,
            "right": null,
            "top": null,
            "visibility": null,
            "width": null
          }
        },
        "929a6fc6bb294575bad8d3bd1448f50a": {
          "model_module": "@jupyter-widgets/controls",
          "model_name": "ProgressStyleModel",
          "model_module_version": "1.5.0",
          "state": {
            "_model_module": "@jupyter-widgets/controls",
            "_model_module_version": "1.5.0",
            "_model_name": "ProgressStyleModel",
            "_view_count": null,
            "_view_module": "@jupyter-widgets/base",
            "_view_module_version": "1.2.0",
            "_view_name": "StyleView",
            "bar_color": null,
            "description_width": ""
          }
        },
        "da22451d89c14da19b2861ec94d76392": {
          "model_module": "@jupyter-widgets/controls",
          "model_name": "VBoxModel",
          "model_module_version": "1.5.0",
          "state": {
            "_dom_classes": [],
            "_model_module": "@jupyter-widgets/controls",
            "_model_module_version": "1.5.0",
            "_model_name": "VBoxModel",
            "_view_count": null,
            "_view_module": "@jupyter-widgets/controls",
            "_view_module_version": "1.5.0",
            "_view_name": "VBoxView",
            "box_style": "",
            "children": [
              "IPY_MODEL_6b3f2250526541fdab537822c6b72944",
              "IPY_MODEL_1cf798a3922b4c26bb43f847ee76e08d"
            ],
            "layout": "IPY_MODEL_327f2d9227be4b9496a484dddf32b5c1"
          }
        },
        "6b3f2250526541fdab537822c6b72944": {
          "model_module": "@jupyter-widgets/controls",
          "model_name": "LabelModel",
          "model_module_version": "1.5.0",
          "state": {
            "_dom_classes": [],
            "_model_module": "@jupyter-widgets/controls",
            "_model_module_version": "1.5.0",
            "_model_name": "LabelModel",
            "_view_count": null,
            "_view_module": "@jupyter-widgets/controls",
            "_view_module_version": "1.5.0",
            "_view_name": "LabelView",
            "description": "",
            "description_tooltip": null,
            "layout": "IPY_MODEL_1dec198909c647cab4476de18a6a053a",
            "placeholder": "​",
            "style": "IPY_MODEL_6223f1bbec7f45518f0a42dc9699f9e6",
            "value": "0.008 MB of 0.008 MB uploaded (0.000 MB deduped)\r"
          }
        },
        "1cf798a3922b4c26bb43f847ee76e08d": {
          "model_module": "@jupyter-widgets/controls",
          "model_name": "FloatProgressModel",
          "model_module_version": "1.5.0",
          "state": {
            "_dom_classes": [],
            "_model_module": "@jupyter-widgets/controls",
            "_model_module_version": "1.5.0",
            "_model_name": "FloatProgressModel",
            "_view_count": null,
            "_view_module": "@jupyter-widgets/controls",
            "_view_module_version": "1.5.0",
            "_view_name": "ProgressView",
            "bar_style": "",
            "description": "",
            "description_tooltip": null,
            "layout": "IPY_MODEL_41a203dac5134124a460c17066020dff",
            "max": 1,
            "min": 0,
            "orientation": "horizontal",
            "style": "IPY_MODEL_503b052166f544c6b103138a3096ff09",
            "value": 1
          }
        },
        "327f2d9227be4b9496a484dddf32b5c1": {
          "model_module": "@jupyter-widgets/base",
          "model_name": "LayoutModel",
          "model_module_version": "1.2.0",
          "state": {
            "_model_module": "@jupyter-widgets/base",
            "_model_module_version": "1.2.0",
            "_model_name": "LayoutModel",
            "_view_count": null,
            "_view_module": "@jupyter-widgets/base",
            "_view_module_version": "1.2.0",
            "_view_name": "LayoutView",
            "align_content": null,
            "align_items": null,
            "align_self": null,
            "border": null,
            "bottom": null,
            "display": null,
            "flex": null,
            "flex_flow": null,
            "grid_area": null,
            "grid_auto_columns": null,
            "grid_auto_flow": null,
            "grid_auto_rows": null,
            "grid_column": null,
            "grid_gap": null,
            "grid_row": null,
            "grid_template_areas": null,
            "grid_template_columns": null,
            "grid_template_rows": null,
            "height": null,
            "justify_content": null,
            "justify_items": null,
            "left": null,
            "margin": null,
            "max_height": null,
            "max_width": null,
            "min_height": null,
            "min_width": null,
            "object_fit": null,
            "object_position": null,
            "order": null,
            "overflow": null,
            "overflow_x": null,
            "overflow_y": null,
            "padding": null,
            "right": null,
            "top": null,
            "visibility": null,
            "width": null
          }
        },
        "1dec198909c647cab4476de18a6a053a": {
          "model_module": "@jupyter-widgets/base",
          "model_name": "LayoutModel",
          "model_module_version": "1.2.0",
          "state": {
            "_model_module": "@jupyter-widgets/base",
            "_model_module_version": "1.2.0",
            "_model_name": "LayoutModel",
            "_view_count": null,
            "_view_module": "@jupyter-widgets/base",
            "_view_module_version": "1.2.0",
            "_view_name": "LayoutView",
            "align_content": null,
            "align_items": null,
            "align_self": null,
            "border": null,
            "bottom": null,
            "display": null,
            "flex": null,
            "flex_flow": null,
            "grid_area": null,
            "grid_auto_columns": null,
            "grid_auto_flow": null,
            "grid_auto_rows": null,
            "grid_column": null,
            "grid_gap": null,
            "grid_row": null,
            "grid_template_areas": null,
            "grid_template_columns": null,
            "grid_template_rows": null,
            "height": null,
            "justify_content": null,
            "justify_items": null,
            "left": null,
            "margin": null,
            "max_height": null,
            "max_width": null,
            "min_height": null,
            "min_width": null,
            "object_fit": null,
            "object_position": null,
            "order": null,
            "overflow": null,
            "overflow_x": null,
            "overflow_y": null,
            "padding": null,
            "right": null,
            "top": null,
            "visibility": null,
            "width": null
          }
        },
        "6223f1bbec7f45518f0a42dc9699f9e6": {
          "model_module": "@jupyter-widgets/controls",
          "model_name": "DescriptionStyleModel",
          "model_module_version": "1.5.0",
          "state": {
            "_model_module": "@jupyter-widgets/controls",
            "_model_module_version": "1.5.0",
            "_model_name": "DescriptionStyleModel",
            "_view_count": null,
            "_view_module": "@jupyter-widgets/base",
            "_view_module_version": "1.2.0",
            "_view_name": "StyleView",
            "description_width": ""
          }
        },
        "41a203dac5134124a460c17066020dff": {
          "model_module": "@jupyter-widgets/base",
          "model_name": "LayoutModel",
          "model_module_version": "1.2.0",
          "state": {
            "_model_module": "@jupyter-widgets/base",
            "_model_module_version": "1.2.0",
            "_model_name": "LayoutModel",
            "_view_count": null,
            "_view_module": "@jupyter-widgets/base",
            "_view_module_version": "1.2.0",
            "_view_name": "LayoutView",
            "align_content": null,
            "align_items": null,
            "align_self": null,
            "border": null,
            "bottom": null,
            "display": null,
            "flex": null,
            "flex_flow": null,
            "grid_area": null,
            "grid_auto_columns": null,
            "grid_auto_flow": null,
            "grid_auto_rows": null,
            "grid_column": null,
            "grid_gap": null,
            "grid_row": null,
            "grid_template_areas": null,
            "grid_template_columns": null,
            "grid_template_rows": null,
            "height": null,
            "justify_content": null,
            "justify_items": null,
            "left": null,
            "margin": null,
            "max_height": null,
            "max_width": null,
            "min_height": null,
            "min_width": null,
            "object_fit": null,
            "object_position": null,
            "order": null,
            "overflow": null,
            "overflow_x": null,
            "overflow_y": null,
            "padding": null,
            "right": null,
            "top": null,
            "visibility": null,
            "width": null
          }
        },
        "503b052166f544c6b103138a3096ff09": {
          "model_module": "@jupyter-widgets/controls",
          "model_name": "ProgressStyleModel",
          "model_module_version": "1.5.0",
          "state": {
            "_model_module": "@jupyter-widgets/controls",
            "_model_module_version": "1.5.0",
            "_model_name": "ProgressStyleModel",
            "_view_count": null,
            "_view_module": "@jupyter-widgets/base",
            "_view_module_version": "1.2.0",
            "_view_name": "StyleView",
            "bar_color": null,
            "description_width": ""
          }
        },
        "3e301a3b8a3340f7963e49e379d61452": {
          "model_module": "@jupyter-widgets/controls",
          "model_name": "VBoxModel",
          "model_module_version": "1.5.0",
          "state": {
            "_dom_classes": [],
            "_model_module": "@jupyter-widgets/controls",
            "_model_module_version": "1.5.0",
            "_model_name": "VBoxModel",
            "_view_count": null,
            "_view_module": "@jupyter-widgets/controls",
            "_view_module_version": "1.5.0",
            "_view_name": "VBoxView",
            "box_style": "",
            "children": [
              "IPY_MODEL_211b901fd83240bba5513c9ed023fbf0",
              "IPY_MODEL_e5fd5cb186cf45a1937946f5ff929caf"
            ],
            "layout": "IPY_MODEL_e53ac75cabd844dda3fc0e136a345857"
          }
        },
        "211b901fd83240bba5513c9ed023fbf0": {
          "model_module": "@jupyter-widgets/controls",
          "model_name": "LabelModel",
          "model_module_version": "1.5.0",
          "state": {
            "_dom_classes": [],
            "_model_module": "@jupyter-widgets/controls",
            "_model_module_version": "1.5.0",
            "_model_name": "LabelModel",
            "_view_count": null,
            "_view_module": "@jupyter-widgets/controls",
            "_view_module_version": "1.5.0",
            "_view_name": "LabelView",
            "description": "",
            "description_tooltip": null,
            "layout": "IPY_MODEL_805f55b589b14a138fe7609604832659",
            "placeholder": "​",
            "style": "IPY_MODEL_8ce5633e7ee24ef89d52b48bff324d08",
            "value": "492.157 MB of 492.157 MB uploaded (0.000 MB deduped)\r"
          }
        },
        "e5fd5cb186cf45a1937946f5ff929caf": {
          "model_module": "@jupyter-widgets/controls",
          "model_name": "FloatProgressModel",
          "model_module_version": "1.5.0",
          "state": {
            "_dom_classes": [],
            "_model_module": "@jupyter-widgets/controls",
            "_model_module_version": "1.5.0",
            "_model_name": "FloatProgressModel",
            "_view_count": null,
            "_view_module": "@jupyter-widgets/controls",
            "_view_module_version": "1.5.0",
            "_view_name": "ProgressView",
            "bar_style": "",
            "description": "",
            "description_tooltip": null,
            "layout": "IPY_MODEL_7237e826fabe4c22aff93ae667546a38",
            "max": 1,
            "min": 0,
            "orientation": "horizontal",
            "style": "IPY_MODEL_92a77372080742d5aa373171282a4aa3",
            "value": 1
          }
        },
        "e53ac75cabd844dda3fc0e136a345857": {
          "model_module": "@jupyter-widgets/base",
          "model_name": "LayoutModel",
          "model_module_version": "1.2.0",
          "state": {
            "_model_module": "@jupyter-widgets/base",
            "_model_module_version": "1.2.0",
            "_model_name": "LayoutModel",
            "_view_count": null,
            "_view_module": "@jupyter-widgets/base",
            "_view_module_version": "1.2.0",
            "_view_name": "LayoutView",
            "align_content": null,
            "align_items": null,
            "align_self": null,
            "border": null,
            "bottom": null,
            "display": null,
            "flex": null,
            "flex_flow": null,
            "grid_area": null,
            "grid_auto_columns": null,
            "grid_auto_flow": null,
            "grid_auto_rows": null,
            "grid_column": null,
            "grid_gap": null,
            "grid_row": null,
            "grid_template_areas": null,
            "grid_template_columns": null,
            "grid_template_rows": null,
            "height": null,
            "justify_content": null,
            "justify_items": null,
            "left": null,
            "margin": null,
            "max_height": null,
            "max_width": null,
            "min_height": null,
            "min_width": null,
            "object_fit": null,
            "object_position": null,
            "order": null,
            "overflow": null,
            "overflow_x": null,
            "overflow_y": null,
            "padding": null,
            "right": null,
            "top": null,
            "visibility": null,
            "width": null
          }
        },
        "805f55b589b14a138fe7609604832659": {
          "model_module": "@jupyter-widgets/base",
          "model_name": "LayoutModel",
          "model_module_version": "1.2.0",
          "state": {
            "_model_module": "@jupyter-widgets/base",
            "_model_module_version": "1.2.0",
            "_model_name": "LayoutModel",
            "_view_count": null,
            "_view_module": "@jupyter-widgets/base",
            "_view_module_version": "1.2.0",
            "_view_name": "LayoutView",
            "align_content": null,
            "align_items": null,
            "align_self": null,
            "border": null,
            "bottom": null,
            "display": null,
            "flex": null,
            "flex_flow": null,
            "grid_area": null,
            "grid_auto_columns": null,
            "grid_auto_flow": null,
            "grid_auto_rows": null,
            "grid_column": null,
            "grid_gap": null,
            "grid_row": null,
            "grid_template_areas": null,
            "grid_template_columns": null,
            "grid_template_rows": null,
            "height": null,
            "justify_content": null,
            "justify_items": null,
            "left": null,
            "margin": null,
            "max_height": null,
            "max_width": null,
            "min_height": null,
            "min_width": null,
            "object_fit": null,
            "object_position": null,
            "order": null,
            "overflow": null,
            "overflow_x": null,
            "overflow_y": null,
            "padding": null,
            "right": null,
            "top": null,
            "visibility": null,
            "width": null
          }
        },
        "8ce5633e7ee24ef89d52b48bff324d08": {
          "model_module": "@jupyter-widgets/controls",
          "model_name": "DescriptionStyleModel",
          "model_module_version": "1.5.0",
          "state": {
            "_model_module": "@jupyter-widgets/controls",
            "_model_module_version": "1.5.0",
            "_model_name": "DescriptionStyleModel",
            "_view_count": null,
            "_view_module": "@jupyter-widgets/base",
            "_view_module_version": "1.2.0",
            "_view_name": "StyleView",
            "description_width": ""
          }
        },
        "7237e826fabe4c22aff93ae667546a38": {
          "model_module": "@jupyter-widgets/base",
          "model_name": "LayoutModel",
          "model_module_version": "1.2.0",
          "state": {
            "_model_module": "@jupyter-widgets/base",
            "_model_module_version": "1.2.0",
            "_model_name": "LayoutModel",
            "_view_count": null,
            "_view_module": "@jupyter-widgets/base",
            "_view_module_version": "1.2.0",
            "_view_name": "LayoutView",
            "align_content": null,
            "align_items": null,
            "align_self": null,
            "border": null,
            "bottom": null,
            "display": null,
            "flex": null,
            "flex_flow": null,
            "grid_area": null,
            "grid_auto_columns": null,
            "grid_auto_flow": null,
            "grid_auto_rows": null,
            "grid_column": null,
            "grid_gap": null,
            "grid_row": null,
            "grid_template_areas": null,
            "grid_template_columns": null,
            "grid_template_rows": null,
            "height": null,
            "justify_content": null,
            "justify_items": null,
            "left": null,
            "margin": null,
            "max_height": null,
            "max_width": null,
            "min_height": null,
            "min_width": null,
            "object_fit": null,
            "object_position": null,
            "order": null,
            "overflow": null,
            "overflow_x": null,
            "overflow_y": null,
            "padding": null,
            "right": null,
            "top": null,
            "visibility": null,
            "width": null
          }
        },
        "92a77372080742d5aa373171282a4aa3": {
          "model_module": "@jupyter-widgets/controls",
          "model_name": "ProgressStyleModel",
          "model_module_version": "1.5.0",
          "state": {
            "_model_module": "@jupyter-widgets/controls",
            "_model_module_version": "1.5.0",
            "_model_name": "ProgressStyleModel",
            "_view_count": null,
            "_view_module": "@jupyter-widgets/base",
            "_view_module_version": "1.2.0",
            "_view_name": "StyleView",
            "bar_color": null,
            "description_width": ""
          }
        }
      }
    }
  },
  "cells": [
    {
      "cell_type": "code",
      "source": [
        "!pip install wandb\n",
        "!wandb login"
      ],
      "metadata": {
        "id": "dl2aIZZj9Mm7",
        "colab": {
          "base_uri": "https://localhost:8080/"
        },
        "outputId": "e03737c4-e580-4fee-f8a2-2111098775b6"
      },
      "execution_count": null,
      "outputs": [
        {
          "output_type": "stream",
          "name": "stdout",
          "text": [
            "Collecting wandb\n",
            "  Downloading wandb-0.12.11-py2.py3-none-any.whl (1.7 MB)\n",
            "\u001b[?25l\r\u001b[K     |▏                               | 10 kB 11.3 MB/s eta 0:00:01\r\u001b[K     |▍                               | 20 kB 15.1 MB/s eta 0:00:01\r\u001b[K     |▋                               | 30 kB 18.7 MB/s eta 0:00:01\r\u001b[K     |▊                               | 40 kB 17.6 MB/s eta 0:00:01\r\u001b[K     |█                               | 51 kB 14.8 MB/s eta 0:00:01\r\u001b[K     |█▏                              | 61 kB 16.7 MB/s eta 0:00:01\r\u001b[K     |█▎                              | 71 kB 16.2 MB/s eta 0:00:01\r\u001b[K     |█▌                              | 81 kB 17.6 MB/s eta 0:00:01\r\u001b[K     |█▊                              | 92 kB 19.1 MB/s eta 0:00:01\r\u001b[K     |█▉                              | 102 kB 19.1 MB/s eta 0:00:01\r\u001b[K     |██                              | 112 kB 19.1 MB/s eta 0:00:01\r\u001b[K     |██▎                             | 122 kB 19.1 MB/s eta 0:00:01\r\u001b[K     |██▍                             | 133 kB 19.1 MB/s eta 0:00:01\r\u001b[K     |██▋                             | 143 kB 19.1 MB/s eta 0:00:01\r\u001b[K     |██▉                             | 153 kB 19.1 MB/s eta 0:00:01\r\u001b[K     |███                             | 163 kB 19.1 MB/s eta 0:00:01\r\u001b[K     |███▏                            | 174 kB 19.1 MB/s eta 0:00:01\r\u001b[K     |███▍                            | 184 kB 19.1 MB/s eta 0:00:01\r\u001b[K     |███▋                            | 194 kB 19.1 MB/s eta 0:00:01\r\u001b[K     |███▊                            | 204 kB 19.1 MB/s eta 0:00:01\r\u001b[K     |████                            | 215 kB 19.1 MB/s eta 0:00:01\r\u001b[K     |████▏                           | 225 kB 19.1 MB/s eta 0:00:01\r\u001b[K     |████▎                           | 235 kB 19.1 MB/s eta 0:00:01\r\u001b[K     |████▌                           | 245 kB 19.1 MB/s eta 0:00:01\r\u001b[K     |████▊                           | 256 kB 19.1 MB/s eta 0:00:01\r\u001b[K     |████▉                           | 266 kB 19.1 MB/s eta 0:00:01\r\u001b[K     |█████                           | 276 kB 19.1 MB/s eta 0:00:01\r\u001b[K     |█████▎                          | 286 kB 19.1 MB/s eta 0:00:01\r\u001b[K     |█████▌                          | 296 kB 19.1 MB/s eta 0:00:01\r\u001b[K     |█████▋                          | 307 kB 19.1 MB/s eta 0:00:01\r\u001b[K     |█████▉                          | 317 kB 19.1 MB/s eta 0:00:01\r\u001b[K     |██████                          | 327 kB 19.1 MB/s eta 0:00:01\r\u001b[K     |██████▏                         | 337 kB 19.1 MB/s eta 0:00:01\r\u001b[K     |██████▍                         | 348 kB 19.1 MB/s eta 0:00:01\r\u001b[K     |██████▋                         | 358 kB 19.1 MB/s eta 0:00:01\r\u001b[K     |██████▊                         | 368 kB 19.1 MB/s eta 0:00:01\r\u001b[K     |███████                         | 378 kB 19.1 MB/s eta 0:00:01\r\u001b[K     |███████▏                        | 389 kB 19.1 MB/s eta 0:00:01\r\u001b[K     |███████▎                        | 399 kB 19.1 MB/s eta 0:00:01\r\u001b[K     |███████▌                        | 409 kB 19.1 MB/s eta 0:00:01\r\u001b[K     |███████▊                        | 419 kB 19.1 MB/s eta 0:00:01\r\u001b[K     |███████▉                        | 430 kB 19.1 MB/s eta 0:00:01\r\u001b[K     |████████                        | 440 kB 19.1 MB/s eta 0:00:01\r\u001b[K     |████████▎                       | 450 kB 19.1 MB/s eta 0:00:01\r\u001b[K     |████████▌                       | 460 kB 19.1 MB/s eta 0:00:01\r\u001b[K     |████████▋                       | 471 kB 19.1 MB/s eta 0:00:01\r\u001b[K     |████████▉                       | 481 kB 19.1 MB/s eta 0:00:01\r\u001b[K     |█████████                       | 491 kB 19.1 MB/s eta 0:00:01\r\u001b[K     |█████████▏                      | 501 kB 19.1 MB/s eta 0:00:01\r\u001b[K     |█████████▍                      | 512 kB 19.1 MB/s eta 0:00:01\r\u001b[K     |█████████▋                      | 522 kB 19.1 MB/s eta 0:00:01\r\u001b[K     |█████████▊                      | 532 kB 19.1 MB/s eta 0:00:01\r\u001b[K     |██████████                      | 542 kB 19.1 MB/s eta 0:00:01\r\u001b[K     |██████████▏                     | 552 kB 19.1 MB/s eta 0:00:01\r\u001b[K     |██████████▎                     | 563 kB 19.1 MB/s eta 0:00:01\r\u001b[K     |██████████▌                     | 573 kB 19.1 MB/s eta 0:00:01\r\u001b[K     |██████████▊                     | 583 kB 19.1 MB/s eta 0:00:01\r\u001b[K     |███████████                     | 593 kB 19.1 MB/s eta 0:00:01\r\u001b[K     |███████████                     | 604 kB 19.1 MB/s eta 0:00:01\r\u001b[K     |███████████▎                    | 614 kB 19.1 MB/s eta 0:00:01\r\u001b[K     |███████████▌                    | 624 kB 19.1 MB/s eta 0:00:01\r\u001b[K     |███████████▋                    | 634 kB 19.1 MB/s eta 0:00:01\r\u001b[K     |███████████▉                    | 645 kB 19.1 MB/s eta 0:00:01\r\u001b[K     |████████████                    | 655 kB 19.1 MB/s eta 0:00:01\r\u001b[K     |████████████▏                   | 665 kB 19.1 MB/s eta 0:00:01\r\u001b[K     |████████████▍                   | 675 kB 19.1 MB/s eta 0:00:01\r\u001b[K     |████████████▋                   | 686 kB 19.1 MB/s eta 0:00:01\r\u001b[K     |████████████▊                   | 696 kB 19.1 MB/s eta 0:00:01\r\u001b[K     |█████████████                   | 706 kB 19.1 MB/s eta 0:00:01\r\u001b[K     |█████████████▏                  | 716 kB 19.1 MB/s eta 0:00:01\r\u001b[K     |█████████████▍                  | 727 kB 19.1 MB/s eta 0:00:01\r\u001b[K     |█████████████▌                  | 737 kB 19.1 MB/s eta 0:00:01\r\u001b[K     |█████████████▊                  | 747 kB 19.1 MB/s eta 0:00:01\r\u001b[K     |██████████████                  | 757 kB 19.1 MB/s eta 0:00:01\r\u001b[K     |██████████████                  | 768 kB 19.1 MB/s eta 0:00:01\r\u001b[K     |██████████████▎                 | 778 kB 19.1 MB/s eta 0:00:01\r\u001b[K     |██████████████▌                 | 788 kB 19.1 MB/s eta 0:00:01\r\u001b[K     |██████████████▋                 | 798 kB 19.1 MB/s eta 0:00:01\r\u001b[K     |██████████████▉                 | 808 kB 19.1 MB/s eta 0:00:01\r\u001b[K     |███████████████                 | 819 kB 19.1 MB/s eta 0:00:01\r\u001b[K     |███████████████▏                | 829 kB 19.1 MB/s eta 0:00:01\r\u001b[K     |███████████████▍                | 839 kB 19.1 MB/s eta 0:00:01\r\u001b[K     |███████████████▋                | 849 kB 19.1 MB/s eta 0:00:01\r\u001b[K     |███████████████▊                | 860 kB 19.1 MB/s eta 0:00:01\r\u001b[K     |████████████████                | 870 kB 19.1 MB/s eta 0:00:01\r\u001b[K     |████████████████▏               | 880 kB 19.1 MB/s eta 0:00:01\r\u001b[K     |████████████████▍               | 890 kB 19.1 MB/s eta 0:00:01\r\u001b[K     |████████████████▌               | 901 kB 19.1 MB/s eta 0:00:01\r\u001b[K     |████████████████▊               | 911 kB 19.1 MB/s eta 0:00:01\r\u001b[K     |█████████████████               | 921 kB 19.1 MB/s eta 0:00:01\r\u001b[K     |█████████████████               | 931 kB 19.1 MB/s eta 0:00:01\r\u001b[K     |█████████████████▎              | 942 kB 19.1 MB/s eta 0:00:01\r\u001b[K     |█████████████████▌              | 952 kB 19.1 MB/s eta 0:00:01\r\u001b[K     |█████████████████▋              | 962 kB 19.1 MB/s eta 0:00:01\r\u001b[K     |█████████████████▉              | 972 kB 19.1 MB/s eta 0:00:01\r\u001b[K     |██████████████████              | 983 kB 19.1 MB/s eta 0:00:01\r\u001b[K     |██████████████████▏             | 993 kB 19.1 MB/s eta 0:00:01\r\u001b[K     |██████████████████▍             | 1.0 MB 19.1 MB/s eta 0:00:01\r\u001b[K     |██████████████████▋             | 1.0 MB 19.1 MB/s eta 0:00:01\r\u001b[K     |██████████████████▉             | 1.0 MB 19.1 MB/s eta 0:00:01\r\u001b[K     |███████████████████             | 1.0 MB 19.1 MB/s eta 0:00:01\r\u001b[K     |███████████████████▏            | 1.0 MB 19.1 MB/s eta 0:00:01\r\u001b[K     |███████████████████▍            | 1.1 MB 19.1 MB/s eta 0:00:01\r\u001b[K     |███████████████████▌            | 1.1 MB 19.1 MB/s eta 0:00:01\r\u001b[K     |███████████████████▊            | 1.1 MB 19.1 MB/s eta 0:00:01\r\u001b[K     |████████████████████            | 1.1 MB 19.1 MB/s eta 0:00:01\r\u001b[K     |████████████████████            | 1.1 MB 19.1 MB/s eta 0:00:01\r\u001b[K     |████████████████████▎           | 1.1 MB 19.1 MB/s eta 0:00:01\r\u001b[K     |████████████████████▌           | 1.1 MB 19.1 MB/s eta 0:00:01\r\u001b[K     |████████████████████▋           | 1.1 MB 19.1 MB/s eta 0:00:01\r\u001b[K     |████████████████████▉           | 1.1 MB 19.1 MB/s eta 0:00:01\r\u001b[K     |█████████████████████           | 1.1 MB 19.1 MB/s eta 0:00:01\r\u001b[K     |█████████████████████▏          | 1.2 MB 19.1 MB/s eta 0:00:01\r\u001b[K     |█████████████████████▍          | 1.2 MB 19.1 MB/s eta 0:00:01\r\u001b[K     |█████████████████████▋          | 1.2 MB 19.1 MB/s eta 0:00:01\r\u001b[K     |█████████████████████▉          | 1.2 MB 19.1 MB/s eta 0:00:01\r\u001b[K     |██████████████████████          | 1.2 MB 19.1 MB/s eta 0:00:01\r\u001b[K     |██████████████████████▏         | 1.2 MB 19.1 MB/s eta 0:00:01\r\u001b[K     |██████████████████████▍         | 1.2 MB 19.1 MB/s eta 0:00:01\r\u001b[K     |██████████████████████▌         | 1.2 MB 19.1 MB/s eta 0:00:01\r\u001b[K     |██████████████████████▊         | 1.2 MB 19.1 MB/s eta 0:00:01\r\u001b[K     |███████████████████████         | 1.2 MB 19.1 MB/s eta 0:00:01\r\u001b[K     |███████████████████████         | 1.3 MB 19.1 MB/s eta 0:00:01\r\u001b[K     |███████████████████████▎        | 1.3 MB 19.1 MB/s eta 0:00:01\r\u001b[K     |███████████████████████▌        | 1.3 MB 19.1 MB/s eta 0:00:01\r\u001b[K     |███████████████████████▋        | 1.3 MB 19.1 MB/s eta 0:00:01\r\u001b[K     |███████████████████████▉        | 1.3 MB 19.1 MB/s eta 0:00:01\r\u001b[K     |████████████████████████        | 1.3 MB 19.1 MB/s eta 0:00:01\r\u001b[K     |████████████████████████▎       | 1.3 MB 19.1 MB/s eta 0:00:01\r\u001b[K     |████████████████████████▍       | 1.3 MB 19.1 MB/s eta 0:00:01\r\u001b[K     |████████████████████████▋       | 1.3 MB 19.1 MB/s eta 0:00:01\r\u001b[K     |████████████████████████▉       | 1.4 MB 19.1 MB/s eta 0:00:01\r\u001b[K     |█████████████████████████       | 1.4 MB 19.1 MB/s eta 0:00:01\r\u001b[K     |█████████████████████████▏      | 1.4 MB 19.1 MB/s eta 0:00:01\r\u001b[K     |█████████████████████████▍      | 1.4 MB 19.1 MB/s eta 0:00:01\r\u001b[K     |█████████████████████████▌      | 1.4 MB 19.1 MB/s eta 0:00:01\r\u001b[K     |█████████████████████████▊      | 1.4 MB 19.1 MB/s eta 0:00:01\r\u001b[K     |██████████████████████████      | 1.4 MB 19.1 MB/s eta 0:00:01\r\u001b[K     |██████████████████████████      | 1.4 MB 19.1 MB/s eta 0:00:01\r\u001b[K     |██████████████████████████▎     | 1.4 MB 19.1 MB/s eta 0:00:01\r\u001b[K     |██████████████████████████▌     | 1.4 MB 19.1 MB/s eta 0:00:01\r\u001b[K     |██████████████████████████▊     | 1.5 MB 19.1 MB/s eta 0:00:01\r\u001b[K     |██████████████████████████▉     | 1.5 MB 19.1 MB/s eta 0:00:01\r\u001b[K     |███████████████████████████     | 1.5 MB 19.1 MB/s eta 0:00:01\r\u001b[K     |███████████████████████████▎    | 1.5 MB 19.1 MB/s eta 0:00:01\r\u001b[K     |███████████████████████████▍    | 1.5 MB 19.1 MB/s eta 0:00:01\r\u001b[K     |███████████████████████████▋    | 1.5 MB 19.1 MB/s eta 0:00:01\r\u001b[K     |███████████████████████████▉    | 1.5 MB 19.1 MB/s eta 0:00:01\r\u001b[K     |████████████████████████████    | 1.5 MB 19.1 MB/s eta 0:00:01\r\u001b[K     |████████████████████████████▏   | 1.5 MB 19.1 MB/s eta 0:00:01\r\u001b[K     |████████████████████████████▍   | 1.5 MB 19.1 MB/s eta 0:00:01\r\u001b[K     |████████████████████████████▌   | 1.6 MB 19.1 MB/s eta 0:00:01\r\u001b[K     |████████████████████████████▊   | 1.6 MB 19.1 MB/s eta 0:00:01\r\u001b[K     |█████████████████████████████   | 1.6 MB 19.1 MB/s eta 0:00:01\r\u001b[K     |█████████████████████████████   | 1.6 MB 19.1 MB/s eta 0:00:01\r\u001b[K     |█████████████████████████████▎  | 1.6 MB 19.1 MB/s eta 0:00:01\r\u001b[K     |█████████████████████████████▌  | 1.6 MB 19.1 MB/s eta 0:00:01\r\u001b[K     |█████████████████████████████▊  | 1.6 MB 19.1 MB/s eta 0:00:01\r\u001b[K     |█████████████████████████████▉  | 1.6 MB 19.1 MB/s eta 0:00:01\r\u001b[K     |██████████████████████████████  | 1.6 MB 19.1 MB/s eta 0:00:01\r\u001b[K     |██████████████████████████████▎ | 1.6 MB 19.1 MB/s eta 0:00:01\r\u001b[K     |██████████████████████████████▍ | 1.7 MB 19.1 MB/s eta 0:00:01\r\u001b[K     |██████████████████████████████▋ | 1.7 MB 19.1 MB/s eta 0:00:01\r\u001b[K     |██████████████████████████████▉ | 1.7 MB 19.1 MB/s eta 0:00:01\r\u001b[K     |███████████████████████████████ | 1.7 MB 19.1 MB/s eta 0:00:01\r\u001b[K     |███████████████████████████████▏| 1.7 MB 19.1 MB/s eta 0:00:01\r\u001b[K     |███████████████████████████████▍| 1.7 MB 19.1 MB/s eta 0:00:01\r\u001b[K     |███████████████████████████████▌| 1.7 MB 19.1 MB/s eta 0:00:01\r\u001b[K     |███████████████████████████████▊| 1.7 MB 19.1 MB/s eta 0:00:01\r\u001b[K     |████████████████████████████████| 1.7 MB 19.1 MB/s eta 0:00:01\r\u001b[K     |████████████████████████████████| 1.7 MB 19.1 MB/s \n",
            "\u001b[?25hCollecting shortuuid>=0.5.0\n",
            "  Downloading shortuuid-1.0.8-py3-none-any.whl (9.5 kB)\n",
            "Requirement already satisfied: Click!=8.0.0,>=7.0 in /usr/local/lib/python3.7/dist-packages (from wandb) (7.1.2)\n",
            "Collecting yaspin>=1.0.0\n",
            "  Downloading yaspin-2.1.0-py3-none-any.whl (18 kB)\n",
            "Requirement already satisfied: python-dateutil>=2.6.1 in /usr/local/lib/python3.7/dist-packages (from wandb) (2.8.2)\n",
            "Collecting setproctitle\n",
            "  Downloading setproctitle-1.2.2-cp37-cp37m-manylinux1_x86_64.whl (36 kB)\n",
            "Requirement already satisfied: psutil>=5.0.0 in /usr/local/lib/python3.7/dist-packages (from wandb) (5.4.8)\n",
            "Requirement already satisfied: six>=1.13.0 in /usr/local/lib/python3.7/dist-packages (from wandb) (1.15.0)\n",
            "Requirement already satisfied: PyYAML in /usr/local/lib/python3.7/dist-packages (from wandb) (3.13)\n",
            "Collecting GitPython>=1.0.0\n",
            "  Downloading GitPython-3.1.27-py3-none-any.whl (181 kB)\n",
            "\u001b[K     |████████████████████████████████| 181 kB 47.4 MB/s \n",
            "\u001b[?25hCollecting docker-pycreds>=0.4.0\n",
            "  Downloading docker_pycreds-0.4.0-py2.py3-none-any.whl (9.0 kB)\n",
            "Requirement already satisfied: promise<3,>=2.0 in /usr/local/lib/python3.7/dist-packages (from wandb) (2.3)\n",
            "Requirement already satisfied: protobuf>=3.12.0 in /usr/local/lib/python3.7/dist-packages (from wandb) (3.17.3)\n",
            "Collecting pathtools\n",
            "  Downloading pathtools-0.1.2.tar.gz (11 kB)\n",
            "Requirement already satisfied: requests<3,>=2.0.0 in /usr/local/lib/python3.7/dist-packages (from wandb) (2.23.0)\n",
            "Collecting sentry-sdk>=1.0.0\n",
            "  Downloading sentry_sdk-1.5.8-py2.py3-none-any.whl (144 kB)\n",
            "\u001b[K     |████████████████████████████████| 144 kB 10.3 MB/s \n",
            "\u001b[?25hRequirement already satisfied: typing-extensions>=3.7.4.3 in /usr/local/lib/python3.7/dist-packages (from GitPython>=1.0.0->wandb) (3.10.0.2)\n",
            "Collecting gitdb<5,>=4.0.1\n",
            "  Downloading gitdb-4.0.9-py3-none-any.whl (63 kB)\n",
            "\u001b[K     |████████████████████████████████| 63 kB 1.2 MB/s \n",
            "\u001b[?25hCollecting smmap<6,>=3.0.1\n",
            "  Downloading smmap-5.0.0-py3-none-any.whl (24 kB)\n",
            "Requirement already satisfied: certifi>=2017.4.17 in /usr/local/lib/python3.7/dist-packages (from requests<3,>=2.0.0->wandb) (2021.10.8)\n",
            "Requirement already satisfied: idna<3,>=2.5 in /usr/local/lib/python3.7/dist-packages (from requests<3,>=2.0.0->wandb) (2.10)\n",
            "Requirement already satisfied: urllib3!=1.25.0,!=1.25.1,<1.26,>=1.21.1 in /usr/local/lib/python3.7/dist-packages (from requests<3,>=2.0.0->wandb) (1.24.3)\n",
            "Requirement already satisfied: chardet<4,>=3.0.2 in /usr/local/lib/python3.7/dist-packages (from requests<3,>=2.0.0->wandb) (3.0.4)\n",
            "Requirement already satisfied: termcolor<2.0.0,>=1.1.0 in /usr/local/lib/python3.7/dist-packages (from yaspin>=1.0.0->wandb) (1.1.0)\n",
            "Building wheels for collected packages: pathtools\n",
            "  Building wheel for pathtools (setup.py) ... \u001b[?25l\u001b[?25hdone\n",
            "  Created wheel for pathtools: filename=pathtools-0.1.2-py3-none-any.whl size=8806 sha256=e1d90cd112b576799e253b8a451eb4a6182d103488708c4ac05aab3ce6bf3d49\n",
            "  Stored in directory: /root/.cache/pip/wheels/3e/31/09/fa59cef12cdcfecc627b3d24273699f390e71828921b2cbba2\n",
            "Successfully built pathtools\n",
            "Installing collected packages: smmap, gitdb, yaspin, shortuuid, setproctitle, sentry-sdk, pathtools, GitPython, docker-pycreds, wandb\n",
            "Successfully installed GitPython-3.1.27 docker-pycreds-0.4.0 gitdb-4.0.9 pathtools-0.1.2 sentry-sdk-1.5.8 setproctitle-1.2.2 shortuuid-1.0.8 smmap-5.0.0 wandb-0.12.11 yaspin-2.1.0\n",
            "\u001b[34m\u001b[1mwandb\u001b[0m: You can find your API key in your browser here: https://wandb.ai/authorize\n",
            "\u001b[34m\u001b[1mwandb\u001b[0m: Paste an API key from your profile and hit enter, or press ctrl+c to quit: \n",
            "\u001b[34m\u001b[1mwandb\u001b[0m: Appending key for api.wandb.ai to your netrc file: /root/.netrc\n"
          ]
        }
      ]
    },
    {
      "cell_type": "markdown",
      "source": [
        "# Upload Data to W & B\n",
        "\n",
        "Given a folder of data, upload it to Weights & Biases as an artifact."
      ],
      "metadata": {
        "id": "ckvVrg9w8crN"
      }
    },
    {
      "cell_type": "code",
      "execution_count": null,
      "metadata": {
        "id": "fVZi9kYz8MUy",
        "colab": {
          "base_uri": "https://localhost:8080/"
        },
        "outputId": "1ca9c9e4-9f7a-4bf2-fe1b-a5217bc536db"
      },
      "outputs": [
        {
          "output_type": "stream",
          "name": "stdout",
          "text": [
            "Drive already mounted at /content/gdrive; to attempt to forcibly remount, call drive.mount(\"/content/gdrive\", force_remount=True).\n"
          ]
        }
      ],
      "source": [
        "from google.colab import drive\n",
        "drive.mount(\"/content/gdrive\")\n",
        "\n",
        "import wandb"
      ]
    },
    {
      "cell_type": "markdown",
      "source": [
        "## Upload Dataset from Drive\n",
        "Run this cell to copy dataset from Google Drive to W & B."
      ],
      "metadata": {
        "id": "dVJ3BGQ_MfHW"
      }
    },
    {
      "cell_type": "code",
      "source": [
        "import os\n",
        "\n",
        "\"\"\"\n",
        "Upload a dataset from the Colab file system, to weights and biases.\n",
        "Running multiple times is OK and will just increase the version of the artifact.\n",
        "\n",
        "Also creates a table for the dataset, to let us access files more easily.\n",
        "\"\"\"\n",
        "\n",
        "GDRIVE_DATASET_1 = \"/content/gdrive/MyDrive/APS360 Group Project/Dataset 1\"\n",
        "GDRIVE_DATASET_2 = \"/content/gdrive/MyDrive/APS360 Group Project/Dataset 2\"\n",
        "\n",
        "!rm -f \"/content/gdrive/MyDrive/APS360 Group Project/Dataset 2/.DS_Store\"\n",
        "\n",
        "with wandb.init(project=\"deep-audio-isolation\", job_type=\"dataset-upload\", entity=\"aps360\") as run:\n",
        "  dataset1 = GDRIVE_DATASET_1\n",
        "  dataset2 = GDRIVE_DATASET_2\n",
        "\n",
        "  artifact = wandb.Artifact(\"tracks-raw\", type=\"dataset\")\n",
        "\n",
        "  # Add all raw file-system files to the artifact.\n",
        "  artifact.add_dir(dataset1, \"tracks1\")\n",
        "  artifact.add_dir(dataset2, \"tracks2\")\n",
        "\n",
        "  # Create a table. This will let us access and view the tracks more easily.\n",
        "  tracks = wandb.Table(columns=[\"id\", \"mixture\", \"vocals\"])\n",
        "\n",
        "  # Add the audio files for each track as a row in the table.\n",
        "  for track_dir in os.scandir(dataset1):\n",
        "    tracks.add_data(\n",
        "        track_dir.name,\n",
        "        wandb.Audio(f\"{track_dir.path}/mixture.wav\"),\n",
        "        wandb.Audio(f\"{track_dir.path}/vocals.wav\")\n",
        "    )\n",
        "\n",
        "  # Dataset 2 is more complex, since not every entry has vocals.\n",
        "  for track_dir in os.scandir(dataset2):\n",
        "    tracks.add_data(\n",
        "        track_dir.name,\n",
        "        wandb.Audio(f\"{track_dir.path}/mixture.wav\"),\n",
        "        wandb.Audio(f\"{track_dir.path}/vocals.wav\") if os.path.exists(f\"{track_dir.path}/vocals.wav\") else None\n",
        "    )\n",
        "  \n",
        "  # Add table to the artifact, together with the raw files.\n",
        "  artifact.add(tracks, \"Tracks\")\n",
        "  \n",
        "  run.log_artifact(artifact)"
      ],
      "metadata": {
        "id": "sn52ZpDBMei4",
        "colab": {
          "base_uri": "https://localhost:8080/",
          "height": 204,
          "referenced_widgets": [
            "4171bd496ad34299b58a4ecc15b2a406",
            "4301e0c1783f4c01bd8fb7ad54b9d36c",
            "0bb7d336b08047dbbd8a82b9e6343ba7",
            "baa44fbcc794485392e2dbca2017e10d",
            "80efaa20f66c46718201f4a636a27843",
            "cb54b9249da34853b424fef8ed428653",
            "57699913dcc443f69b481db325bcfd63",
            "929a6fc6bb294575bad8d3bd1448f50a"
          ]
        },
        "outputId": "4f526650-d1c6-4224-e5ae-b3193f103e21"
      },
      "execution_count": null,
      "outputs": [
        {
          "output_type": "display_data",
          "data": {
            "text/plain": [
              "<IPython.core.display.HTML object>"
            ],
            "text/html": [
              "Tracking run with wandb version 0.12.11"
            ]
          },
          "metadata": {}
        },
        {
          "output_type": "display_data",
          "data": {
            "text/plain": [
              "<IPython.core.display.HTML object>"
            ],
            "text/html": [
              "Run data is saved locally in <code>/content/wandb/run-20220403_011403-2f1icweq</code>"
            ]
          },
          "metadata": {}
        },
        {
          "output_type": "display_data",
          "data": {
            "text/plain": [
              "<IPython.core.display.HTML object>"
            ],
            "text/html": [
              "Syncing run <strong><a href=\"https://wandb.ai/aps360/deep-audio-isolation/runs/2f1icweq\" target=\"_blank\">genial-armadillo-58</a></strong> to <a href=\"https://wandb.ai/aps360/deep-audio-isolation\" target=\"_blank\">Weights & Biases</a> (<a href=\"https://wandb.me/run\" target=\"_blank\">docs</a>)<br/>"
            ]
          },
          "metadata": {}
        },
        {
          "output_type": "stream",
          "name": "stderr",
          "text": [
            "\u001b[34m\u001b[1mwandb\u001b[0m: Adding directory to artifact (/content/gdrive/MyDrive/APS360 Group Project/Dataset 1)... Done. 2.3s\n",
            "\u001b[34m\u001b[1mwandb\u001b[0m: Adding directory to artifact (/content/gdrive/MyDrive/APS360 Group Project/Dataset 2)... Done. 13.8s\n"
          ]
        },
        {
          "output_type": "stream",
          "name": "stdout",
          "text": [
            "\n"
          ]
        },
        {
          "output_type": "display_data",
          "data": {
            "text/plain": [
              "<IPython.core.display.HTML object>"
            ],
            "text/html": [
              "Waiting for W&B process to finish... <strong style=\"color:green\">(success).</strong>"
            ]
          },
          "metadata": {}
        },
        {
          "output_type": "display_data",
          "data": {
            "text/plain": [
              "VBox(children=(Label(value='5324.349 MB of 5324.349 MB uploaded (329.646 MB deduped)\\r'), FloatProgress(value=…"
            ],
            "application/vnd.jupyter.widget-view+json": {
              "version_major": 2,
              "version_minor": 0,
              "model_id": "4171bd496ad34299b58a4ecc15b2a406"
            }
          },
          "metadata": {}
        },
        {
          "output_type": "display_data",
          "data": {
            "text/plain": [
              "<IPython.core.display.HTML object>"
            ],
            "text/html": [
              "W&B sync reduced upload amount by 6.2%             "
            ]
          },
          "metadata": {}
        },
        {
          "output_type": "display_data",
          "data": {
            "text/plain": [
              "<IPython.core.display.HTML object>"
            ],
            "text/html": [
              "Synced <strong style=\"color:#cdcd00\">genial-armadillo-58</strong>: <a href=\"https://wandb.ai/aps360/deep-audio-isolation/runs/2f1icweq\" target=\"_blank\">https://wandb.ai/aps360/deep-audio-isolation/runs/2f1icweq</a><br/>Synced 5 W&B file(s), 0 media file(s), 527 artifact file(s) and 0 other file(s)"
            ]
          },
          "metadata": {}
        },
        {
          "output_type": "display_data",
          "data": {
            "text/plain": [
              "<IPython.core.display.HTML object>"
            ],
            "text/html": [
              "Find logs at: <code>./wandb/run-20220403_011403-2f1icweq/logs</code>"
            ]
          },
          "metadata": {}
        }
      ]
    },
    {
      "cell_type": "markdown",
      "source": [
        "## Download Data from W & B\n",
        "This is how this dataset can be accessed in code."
      ],
      "metadata": {
        "id": "LF7lXi6V5b27"
      }
    },
    {
      "cell_type": "code",
      "source": [
        "with wandb.init(entity=\"aps360\", project=\"deep-audio-isolation\") as run:\n",
        "  artifact = run.use_artifact('tracks-raw:latest', type='dataset')\n",
        "\n",
        "  # Path to directory.\n",
        "  tracks_dir = artifact.download()\n",
        "  print(tracks_dir)"
      ],
      "metadata": {
        "colab": {
          "base_uri": "https://localhost:8080/",
          "height": 187,
          "referenced_widgets": [
            "da22451d89c14da19b2861ec94d76392",
            "6b3f2250526541fdab537822c6b72944",
            "1cf798a3922b4c26bb43f847ee76e08d",
            "327f2d9227be4b9496a484dddf32b5c1",
            "1dec198909c647cab4476de18a6a053a",
            "6223f1bbec7f45518f0a42dc9699f9e6",
            "41a203dac5134124a460c17066020dff",
            "503b052166f544c6b103138a3096ff09"
          ]
        },
        "id": "xkWSiVny5hnD",
        "outputId": "dee55d63-00f2-49bf-c2f1-6caa6d884d14"
      },
      "execution_count": null,
      "outputs": [
        {
          "output_type": "display_data",
          "data": {
            "text/plain": [
              "<IPython.core.display.HTML object>"
            ],
            "text/html": [
              "Tracking run with wandb version 0.12.11"
            ]
          },
          "metadata": {}
        },
        {
          "output_type": "display_data",
          "data": {
            "text/plain": [
              "<IPython.core.display.HTML object>"
            ],
            "text/html": [
              "Run data is saved locally in <code>/content/wandb/run-20220403_011545-29ezqfsg</code>"
            ]
          },
          "metadata": {}
        },
        {
          "output_type": "display_data",
          "data": {
            "text/plain": [
              "<IPython.core.display.HTML object>"
            ],
            "text/html": [
              "Syncing run <strong><a href=\"https://wandb.ai/aps360/deep-audio-isolation/runs/29ezqfsg\" target=\"_blank\">sandy-moon-59</a></strong> to <a href=\"https://wandb.ai/aps360/deep-audio-isolation\" target=\"_blank\">Weights & Biases</a> (<a href=\"https://wandb.me/run\" target=\"_blank\">docs</a>)<br/>"
            ]
          },
          "metadata": {}
        },
        {
          "output_type": "stream",
          "name": "stderr",
          "text": [
            "\u001b[34m\u001b[1mwandb\u001b[0m: Downloading large artifact tracks-raw:latest, 5326.64MB. 529 files... Done. 0:0:0\n"
          ]
        },
        {
          "output_type": "stream",
          "name": "stdout",
          "text": [
            "./artifacts/tracks-raw:v5\n",
            "\n"
          ]
        },
        {
          "output_type": "display_data",
          "data": {
            "text/plain": [
              "<IPython.core.display.HTML object>"
            ],
            "text/html": [
              "Waiting for W&B process to finish... <strong style=\"color:green\">(success).</strong>"
            ]
          },
          "metadata": {}
        },
        {
          "output_type": "display_data",
          "data": {
            "text/plain": [
              "VBox(children=(Label(value='0.001 MB of 0.001 MB uploaded (0.000 MB deduped)\\r'), FloatProgress(value=1.0, max…"
            ],
            "application/vnd.jupyter.widget-view+json": {
              "version_major": 2,
              "version_minor": 0,
              "model_id": "da22451d89c14da19b2861ec94d76392"
            }
          },
          "metadata": {}
        },
        {
          "output_type": "display_data",
          "data": {
            "text/plain": [
              "<IPython.core.display.HTML object>"
            ],
            "text/html": [
              "Synced <strong style=\"color:#cdcd00\">sandy-moon-59</strong>: <a href=\"https://wandb.ai/aps360/deep-audio-isolation/runs/29ezqfsg\" target=\"_blank\">https://wandb.ai/aps360/deep-audio-isolation/runs/29ezqfsg</a><br/>Synced 5 W&B file(s), 0 media file(s), 0 artifact file(s) and 0 other file(s)"
            ]
          },
          "metadata": {}
        },
        {
          "output_type": "display_data",
          "data": {
            "text/plain": [
              "<IPython.core.display.HTML object>"
            ],
            "text/html": [
              "Find logs at: <code>./wandb/run-20220403_011545-29ezqfsg/logs</code>"
            ]
          },
          "metadata": {}
        }
      ]
    },
    {
      "cell_type": "markdown",
      "source": [
        "# Transform Data"
      ],
      "metadata": {
        "id": "6aPUJuMtxXiU"
      }
    },
    {
      "cell_type": "markdown",
      "source": [
        "## Convert Audio into PCM Tensors"
      ],
      "metadata": {
        "id": "SXOWe_Owxftj"
      }
    },
    {
      "cell_type": "code",
      "source": [
        "import wandb\n",
        "import scipy.io.wavfile\n",
        "import numpy as np\n",
        "import torch\n",
        "import os\n",
        "\n",
        "with wandb.init(project=\"deep-audio-isolation\", entity=\"aps360\", job_type=\"data\") as run:\n",
        "  # Get latest version of audio tracks.\n",
        "  tracks_artifact = run.use_artifact('tracks-raw:latest', type='dataset')\n",
        "  tracks_dir = tracks_artifact.download()\n",
        "\n",
        "  tracks1_root = f\"{tracks_dir}/tracks1\"\n",
        "  tracks2_root = f\"{tracks_dir}/tracks2\"\n",
        "  \n",
        "  # Load all tracks, and convert to a big tensor.\n",
        "  vocals = []\n",
        "  mixtures = []\n",
        "\n",
        "  # Sample rate is the same for all tracks.\n",
        "  sample_rate = 0\n",
        "\n",
        "  target_length = 0\n",
        "\n",
        "  for dir in os.listdir(tracks1_root):\n",
        "    mixture_path = f\"{tracks1_root}/{dir}/mixture.wav\"\n",
        "    vocals_path = f\"{tracks1_root}/{dir}/vocals.wav\"\n",
        "\n",
        "    sample_rate, mixture_data = scipy.io.wavfile.read(mixture_path)\n",
        "    sample_rate, vocals_data = scipy.io.wavfile.read(vocals_path)\n",
        "\n",
        "    target_length = vocals_data.shape[0]\n",
        "\n",
        "    vocals += [vocals_data[:, 0]]\n",
        "    mixtures += [mixture_data[:, 0]]\n",
        "\n",
        "\n",
        "  # The second directory is more complicated, because:\n",
        "  # 1) not everything has a vocals.\n",
        "  # 2) all the lengths are way longer.\n",
        "  # Current approach is to ignore ones with no vocals, and to choose the first 7s with audio for ones that do.\n",
        "  for dir in os.listdir(tracks2_root):\n",
        "    mixture_path = f\"{tracks2_root}/{dir}/mixture.wav\"\n",
        "    vocals_path = f\"{tracks2_root}/{dir}/vocals.wav\"\n",
        "\n",
        "    no_vocals = not os.path.exists(vocals_path)\n",
        "\n",
        "    # if not os.path.exists(vocals_path):\n",
        "    #   continue\n",
        "\n",
        "    sample_rate, mixture_data = scipy.io.wavfile.read(mixture_path)\n",
        "\n",
        "    vocals_data = None\n",
        "    if no_vocals:\n",
        "      continue\n",
        "      vocals_data = np.zeros_like(mixture_data)\n",
        "    else:\n",
        "      _, vocals_data = scipy.io.wavfile.read(vocals_path)\n",
        "\n",
        "    # PCM is on a ~ +- 32k range, so take at least X as presence of sound.\n",
        "    # first_vocal_index = np.where(np.abs(vocals_data) > 5000)[0][0]\n",
        "\n",
        "    # Just adding all the clips, up to a maximum of X. This is a terrible idea.\n",
        "    # But, adding the audio clips spaced randomly.\n",
        "    # num_chunks = len(mixture_data) // target_length\n",
        "    # chunked_vocals = np.split(vocals_data, target_length)\n",
        "\n",
        "    # Leave some spacing between samples.\n",
        "    for i in range(0, len(mixture_data) - target_length, 3*target_length):\n",
        "      mixtures += [mixture_data[i:i+target_length][:, 0]]\n",
        "      vocals += [vocals_data[i:i+target_length][:, 0]]\n",
        "\n",
        "\n",
        "  #   vocals += [vocals_data[first_vocal_index:first_vocal_index + target_length]]\n",
        "  #   mixtures += [mixture_data[first_vocal_index:first_vocal_index + target_length]]\n",
        "\n",
        "  # print(len(vocals))\n",
        "  # Load into numpy, and convert to mono.\n",
        "  # print(len(mixtures), len(mixtures[0]), len(mixtures[-1]#))\n",
        "  mixtures_np = np.array(mixtures)#np.array(mixtures)[:, :, 0]\n",
        "  vocals_np = np.array(vocals)\n",
        "  # vocals_np = np.array(vocals)#np.array(vocals)[:, :, 0]\n",
        "\n",
        "  # Save as tensors, with sample-rate embedded inside.\n",
        "  torch.save({\n",
        "      \"mixtures\": torch.tensor(mixtures_np),\n",
        "      \"vocals\": torch.tensor(vocals_np),\n",
        "      \"sample_rate\": sample_rate\n",
        "  }, \"pcm.pt\")\n",
        "\n",
        "  artifact = wandb.Artifact(\"tracks-pcm-experimental-noinstr\", type=\"dataset\")\n",
        "  artifact.add_file(\"pcm.pt\")\n",
        "  run.log_artifact(artifact)"
      ],
      "metadata": {
        "id": "sM0TuVCAxdVJ",
        "colab": {
          "base_uri": "https://localhost:8080/",
          "height": 187,
          "referenced_widgets": [
            "3e301a3b8a3340f7963e49e379d61452",
            "211b901fd83240bba5513c9ed023fbf0",
            "e5fd5cb186cf45a1937946f5ff929caf",
            "e53ac75cabd844dda3fc0e136a345857",
            "805f55b589b14a138fe7609604832659",
            "8ce5633e7ee24ef89d52b48bff324d08",
            "7237e826fabe4c22aff93ae667546a38",
            "92a77372080742d5aa373171282a4aa3"
          ]
        },
        "outputId": "c6559b3e-56d3-4f32-a970-8f3fc6d23b7e"
      },
      "execution_count": null,
      "outputs": [
        {
          "output_type": "stream",
          "name": "stderr",
          "text": [
            "\u001b[34m\u001b[1mwandb\u001b[0m: Currently logged in as: \u001b[33mjamohile\u001b[0m (use `wandb login --relogin` to force relogin)\n"
          ]
        },
        {
          "output_type": "display_data",
          "data": {
            "text/plain": [
              "<IPython.core.display.HTML object>"
            ],
            "text/html": [
              "Tracking run with wandb version 0.12.11"
            ]
          },
          "metadata": {}
        },
        {
          "output_type": "display_data",
          "data": {
            "text/plain": [
              "<IPython.core.display.HTML object>"
            ],
            "text/html": [
              "Run data is saved locally in <code>/content/wandb/run-20220403_090504-2mzfba6d</code>"
            ]
          },
          "metadata": {}
        },
        {
          "output_type": "display_data",
          "data": {
            "text/plain": [
              "<IPython.core.display.HTML object>"
            ],
            "text/html": [
              "Syncing run <strong><a href=\"https://wandb.ai/aps360/deep-audio-isolation/runs/2mzfba6d\" target=\"_blank\">charmed-donkey-106</a></strong> to <a href=\"https://wandb.ai/aps360/deep-audio-isolation\" target=\"_blank\">Weights & Biases</a> (<a href=\"https://wandb.me/run\" target=\"_blank\">docs</a>)<br/>"
            ]
          },
          "metadata": {}
        },
        {
          "output_type": "stream",
          "name": "stderr",
          "text": [
            "\u001b[34m\u001b[1mwandb\u001b[0m: Downloading large artifact tracks-raw:latest, 5326.64MB. 529 files... Done. 0:0:0\n"
          ]
        },
        {
          "output_type": "stream",
          "name": "stdout",
          "text": [
            "\n"
          ]
        },
        {
          "output_type": "display_data",
          "data": {
            "text/plain": [
              "<IPython.core.display.HTML object>"
            ],
            "text/html": [
              "Waiting for W&B process to finish... <strong style=\"color:green\">(success).</strong>"
            ]
          },
          "metadata": {}
        },
        {
          "output_type": "display_data",
          "data": {
            "text/plain": [
              "VBox(children=(Label(value='492.150 MB of 492.150 MB uploaded (0.000 MB deduped)\\r'), FloatProgress(value=1.0,…"
            ],
            "application/vnd.jupyter.widget-view+json": {
              "version_major": 2,
              "version_minor": 0,
              "model_id": "3e301a3b8a3340f7963e49e379d61452"
            }
          },
          "metadata": {}
        },
        {
          "output_type": "display_data",
          "data": {
            "text/plain": [
              "<IPython.core.display.HTML object>"
            ],
            "text/html": [
              "Synced <strong style=\"color:#cdcd00\">charmed-donkey-106</strong>: <a href=\"https://wandb.ai/aps360/deep-audio-isolation/runs/2mzfba6d\" target=\"_blank\">https://wandb.ai/aps360/deep-audio-isolation/runs/2mzfba6d</a><br/>Synced 5 W&B file(s), 0 media file(s), 1 artifact file(s) and 0 other file(s)"
            ]
          },
          "metadata": {}
        },
        {
          "output_type": "display_data",
          "data": {
            "text/plain": [
              "<IPython.core.display.HTML object>"
            ],
            "text/html": [
              "Find logs at: <code>./wandb/run-20220403_090504-2mzfba6d/logs</code>"
            ]
          },
          "metadata": {}
        }
      ]
    },
    {
      "cell_type": "markdown",
      "source": [
        "## Convert PCM Audio into STFT Tensors"
      ],
      "metadata": {
        "id": "6PbZIH442Utq"
      }
    },
    {
      "cell_type": "code",
      "source": [
        "import wandb\n",
        "import scipy.signal\n",
        "import torch\n",
        "\n",
        "config = {\n",
        "  \"segment\": 256,\n",
        "  \"overlap\": 128    \n",
        "}\n",
        "\n",
        "with wandb.init(project=\"deep-audio-isolation\", entity=\"aps360\", job_type=\"data\", config=config) as run:\n",
        "  config = wandb.config\n",
        "\n",
        "  # Download PCM tensors.\n",
        "  pcm_artifact = run.use_artifact('tracks-pcm:latest', type='dataset')\n",
        "  pcm = torch.load(\"pcm.pt\")\n",
        "\n",
        "  pcm_mixtures = pcm[\"mixtures\"]\n",
        "  pcm_vocals = pcm[\"vocals\"]\n",
        "  sample_rate = pcm[\"sample_rate\"]\n",
        "\n",
        "  segment = config[\"segment\"]\n",
        "  overlap = config[\"overlap\"]\n",
        "\n",
        "  _, _, mixtures = scipy.signal.stft(x=pcm_mixtures, fs=sample_rate, nperseg=segment, noverlap=overlap)\n",
        "  _, _, vocals = scipy.signal.stft(x=pcm_vocals, fs=sample_rate, nperseg=segment, noverlap=overlap)\n",
        "\n",
        "  torch.save({\n",
        "      \"mixtures\": torch.tensor(mixtures),\n",
        "      \"vocals\": torch.tensor(vocals),\n",
        "      \"sample_rate\": sample_rate\n",
        "  }, \"freqs.pt\")\n",
        "\n",
        "  artifact = wandb.Artifact(f\"tracks-freqs-s{segment}_o{overlap}\", type=\"dataset\")\n",
        "  artifact.add_file(\"freqs.pt\")\n",
        "  run.log_artifact(artifact)"
      ],
      "metadata": {
        "id": "DE-cXhVm2bW5"
      },
      "execution_count": null,
      "outputs": []
    }
  ]
}