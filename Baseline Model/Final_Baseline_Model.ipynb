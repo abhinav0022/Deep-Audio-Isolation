{
  "nbformat": 4,
  "nbformat_minor": 0,
  "metadata": {
    "colab": {
      "name": "Final Baseline Model.ipynb",
      "provenance": [],
      "collapsed_sections": []
    },
    "kernelspec": {
      "name": "python3",
      "display_name": "Python 3"
    },
    "language_info": {
      "name": "python"
    }
  },
  "cells": [
    {
      "cell_type": "code",
      "execution_count": null,
      "metadata": {
        "colab": {
          "base_uri": "https://localhost:8080/"
        },
        "id": "_ZEg8zL5_k9f",
        "outputId": "bee7ef92-5bff-4c45-eda9-a3e6abb7ae1c"
      },
      "outputs": [
        {
          "output_type": "stream",
          "name": "stdout",
          "text": [
            "Mounted at /content/gdrive/\n"
          ]
        }
      ],
      "source": [
        "from google.colab import drive\n",
        "drive.mount('/content/gdrive/')"
      ]
    },
    {
      "cell_type": "code",
      "source": [
        "import numpy as np\n",
        "from scipy.io import wavfile as wf\n",
        "# load the sample media file\n",
        "# mixture = \"/content/gdrive/MyDrive/Baseline Test/Copy of mixture.wav\"\n",
        "mixture = \"/content/gdrive/MyDrive/Baseline Test/Demo Audio.wav\"\n",
        "\n",
        "# read the file into an array\n",
        "sampling_rate, x = wf.read(mixture)\n",
        "x=x.T\n",
        "print(x.shape)\n",
        "# print(x[0][1000:2000])\n",
        "# print(x[1][1000:2000])"
      ],
      "metadata": {
        "colab": {
          "base_uri": "https://localhost:8080/"
        },
        "id": "bH4Zl-I1fnih",
        "outputId": "d1d3b1ce-076f-4b3b-adff-449b6a1e25b1"
      },
      "execution_count": null,
      "outputs": [
        {
          "output_type": "stream",
          "name": "stdout",
          "text": [
            "(2, 300032)\n"
          ]
        }
      ]
    },
    {
      "cell_type": "code",
      "source": [
        "# normalize the mixture\n",
        "def normalize(x):\n",
        "  x= np.array(x)\n",
        "  x_mean = x.mean(axis=1, keepdims=True)\n",
        "  x_norm = x - x_mean\n",
        "  return x_norm\n",
        "x_norm = normalize(x)\n",
        "# print(x_norm)"
      ],
      "metadata": {
        "id": "xYHFK2vLi4AN"
      },
      "execution_count": null,
      "outputs": []
    },
    {
      "cell_type": "code",
      "source": [
        "from numpy import linalg as LA\n",
        "\n",
        "# whiten the data\n",
        "def whiten(x):\n",
        "  x_cov = np.cov(x)\n",
        "  eigen = np.linalg.eigh(x_cov)\n",
        "  eigen_val, eigen_vec = eigen\n",
        "\n",
        "  D = np.diag(eigen_val)\n",
        "  D_1_2 = np.sqrt(np.linalg.inv(D))\n",
        "\n",
        "  E = eigen_vec\n",
        "  E_T = E.transpose()\n",
        "\n",
        "  x_whitened = np.matmul(E, np.matmul(D_1_2, np.matmul(E_T, x)))\n",
        "\n",
        "  print(x_whitened.shape)\n",
        "\n",
        "  return E, D, x_whitened\n",
        "\n",
        "E, D, x_whitened = whiten(x_norm)\n",
        "\n",
        "\n"
      ],
      "metadata": {
        "colab": {
          "base_uri": "https://localhost:8080/"
        },
        "id": "uzAYb7ajjU5o",
        "outputId": "0e416f5d-85b3-45ed-c98d-838cf9562445"
      },
      "execution_count": null,
      "outputs": [
        {
          "output_type": "stream",
          "name": "stdout",
          "text": [
            "(2, 300032)\n"
          ]
        }
      ]
    },
    {
      "cell_type": "code",
      "source": [
        "def W_new(W, X):\n",
        "  objective = np.tanh(np.matmul(W.T, X))\n",
        "  objective_derivative = 1 -(objective ** 2)\n",
        "  w_new = (X * objective).mean(axis=1) - objective_derivative.mean() * W\n",
        "  w_new= w_new/np.sqrt((w_new ** 2).sum())\n",
        "  return w_new\n",
        "\n",
        "\n",
        "def ICA(X, epochs = 5, learning_rate = 1e-5):\n",
        "\n",
        "  # shape of the input\n",
        "  shape_ = X.shape[0]\n",
        "\n",
        "  # create the weights matrix with the same dimensions\n",
        "  weights = np.zeros((shape_, shape_), dtype=X.dtype)\n",
        "  for i in np.arange(shape_):\n",
        "\n",
        "    # initialize the matrix to random values\n",
        "    w = np.random.rand(shape_)\n",
        "\n",
        "    # iterate for the number of epochs\n",
        "    for epoch in np.arange(epochs):\n",
        "\n",
        "      # run the objective functions\n",
        "      w_new = W_new(w, X)\n",
        "\n",
        "      # train the weights\n",
        "      if(i >= 1):\n",
        "        weights_i = weights[:i]\n",
        "        w_new= w_new - np.dot(np.dot(w_new, weights_i.T), weights_i)\n",
        "      \n",
        "      # calculate the improvement of the model\n",
        "      improvement = np.abs((w * w_new).sum()) - 1\n",
        "      improvement = np.abs(improvement)\n",
        "      \n",
        "      weights_updated = w_new\n",
        "\n",
        "      # if the learning rate is achieved\n",
        "      if(improvement < learning_rate):\n",
        "        # done looping, learning rate achieved\n",
        "        break;\n",
        "\n",
        "    weights[i, :] = weights_updated\n",
        "  \n",
        "  # s = Wx\n",
        "  seperated_tracks = np.dot(weights, X)\n",
        "\n",
        "  # return s (s[0] is the source track, s[1] is the separated vocals)\n",
        "  return seperated_tracks\n",
        "\n",
        "seperated_tracks= ICA(x_whitened, epochs=100)\n",
        "print(seperated_tracks.shape)\n",
        "wf.write('source.wav',sampling_rate, seperated_tracks[0].astype(np.float32))\n",
        "wf.write('vocals.wav', sampling_rate,seperated_tracks[1].astype(np.float32))"
      ],
      "metadata": {
        "colab": {
          "base_uri": "https://localhost:8080/"
        },
        "id": "PN_cNIgVn09U",
        "outputId": "6825f2ec-db36-48c0-a85a-19bc955265d9"
      },
      "execution_count": null,
      "outputs": [
        {
          "output_type": "stream",
          "name": "stdout",
          "text": [
            "(2, 300032)\n"
          ]
        }
      ]
    }
  ]
}